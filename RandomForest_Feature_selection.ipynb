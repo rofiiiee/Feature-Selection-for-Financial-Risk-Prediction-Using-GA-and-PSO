{
  "nbformat": 4,
  "nbformat_minor": 0,
  "metadata": {
    "colab": {
      "provenance": [],
      "gpuType": "T4",
      "include_colab_link": true
    },
    "kernelspec": {
      "name": "python3",
      "display_name": "Python 3"
    },
    "language_info": {
      "name": "python"
    },
    "accelerator": "GPU"
  },
  "cells": [
    {
      "cell_type": "markdown",
      "metadata": {
        "id": "view-in-github",
        "colab_type": "text"
      },
      "source": [
        "<a href=\"https://colab.research.google.com/github/rofiiiee/Feature-Selection-for-Financial-Risk-Prediction-Using-GA-and-PSO/blob/main/RandomForest_Feature_selection.ipynb\" target=\"_parent\"><img src=\"https://colab.research.google.com/assets/colab-badge.svg\" alt=\"Open In Colab\"/></a>"
      ]
    },
    {
      "cell_type": "code",
      "execution_count": null,
      "metadata": {
        "id": "FbNJ7yzlSfyH"
      },
      "outputs": [],
      "source": [
        "import pandas as pd\n",
        "from sklearn.model_selection import train_test_split\n",
        "from sklearn.preprocessing import StandardScaler\n",
        "\n",
        "\n",
        "df = pd.read_csv('/content/data.csv.xls')\n",
        "\n",
        "\n",
        "df = df.drop(columns=[\"id\"], errors=\"ignore\")\n",
        "\n",
        "\n",
        "X = df.drop(\"Bankrupt?\", axis=1)\n",
        "y = df[\"Bankrupt?\"]\n",
        "\n",
        "scaler = StandardScaler()\n",
        "X_scaled = scaler.fit_transform(X)\n",
        "\n",
        "\n",
        "X_train, X_test, y_train, y_test = train_test_split(X_scaled, y, test_size=0.2, random_state=42)\n"
      ]
    },
    {
      "cell_type": "markdown",
      "source": [
        "#Random Forest without Feature Selection"
      ],
      "metadata": {
        "id": "oriYLm3nUP41"
      }
    },
    {
      "cell_type": "code",
      "source": [
        "from sklearn.ensemble import RandomForestClassifier\n",
        "from sklearn.metrics import accuracy_score, precision_score, recall_score, f1_score, classification_report\n",
        "\n",
        "# تدريب موديل Random Forest على كل الخصائص\n",
        "rf = RandomForestClassifier(random_state=42)\n",
        "rf.fit(X_train, y_train)\n",
        "\n",
        "# التوقعات على test data\n",
        "y_pred = rf.predict(X_test)\n",
        "\n",
        "# تقييم الأداء\n",
        "accuracy = accuracy_score(y_test, y_pred)\n",
        "precision = precision_score(y_test, y_pred)\n",
        "recall = recall_score(y_test, y_pred)\n",
        "f1 = f1_score(y_test, y_pred)\n",
        "\n",
        "# طباعة النتائج\n",
        "print(\" Baseline Model (بدون Feature Selection):\\n\")\n",
        "print(f\"Accuracy:  {accuracy:.4f}\")\n",
        "print(f\"Precision: {precision:.4f}\")\n",
        "print(f\"Recall:    {recall:.4f}\")\n",
        "print(f\"F1 Score:  {f1:.4f}\")\n",
        "\n",
        "# تقرير مفصل\n",
        "print(\"\\n Classification Report:\\n\")\n",
        "print(classification_report(y_test, y_pred))\n"
      ],
      "metadata": {
        "colab": {
          "base_uri": "https://localhost:8080/"
        },
        "id": "gjLpeRY7T-I8",
        "outputId": "f5a54c08-6ee4-46a2-bc66-24c01c290a15"
      },
      "execution_count": null,
      "outputs": [
        {
          "output_type": "stream",
          "name": "stdout",
          "text": [
            " Baseline Model (بدون Feature Selection):\n",
            "\n",
            "Accuracy:  0.9677\n",
            "Precision: 1.0000\n",
            "Recall:    0.1373\n",
            "F1 Score:  0.2414\n",
            "\n",
            " Classification Report:\n",
            "\n",
            "              precision    recall  f1-score   support\n",
            "\n",
            "           0       0.97      1.00      0.98      1313\n",
            "           1       1.00      0.14      0.24        51\n",
            "\n",
            "    accuracy                           0.97      1364\n",
            "   macro avg       0.98      0.57      0.61      1364\n",
            "weighted avg       0.97      0.97      0.96      1364\n",
            "\n"
          ]
        }
      ]
    },
    {
      "cell_type": "markdown",
      "source": [
        "#Genetic Algorithm Feature Selection"
      ],
      "metadata": {
        "id": "t5TO0dRPU6g8"
      }
    },
    {
      "cell_type": "code",
      "source": [
        "!pip install deap"
      ],
      "metadata": {
        "colab": {
          "base_uri": "https://localhost:8080/"
        },
        "id": "yda--fDXWXq9",
        "outputId": "0e4eac42-eb8f-4493-bb06-4de417c1e07d"
      },
      "execution_count": null,
      "outputs": [
        {
          "output_type": "stream",
          "name": "stdout",
          "text": [
            "Collecting deap\n",
            "  Downloading deap-1.4.3-cp311-cp311-manylinux_2_5_x86_64.manylinux1_x86_64.manylinux_2_17_x86_64.manylinux2014_x86_64.whl.metadata (13 kB)\n",
            "Requirement already satisfied: numpy in /usr/local/lib/python3.11/dist-packages (from deap) (2.0.2)\n",
            "Downloading deap-1.4.3-cp311-cp311-manylinux_2_5_x86_64.manylinux1_x86_64.manylinux_2_17_x86_64.manylinux2014_x86_64.whl (135 kB)\n",
            "\u001b[?25l   \u001b[90m━━━━━━━━━━━━━━━━━━━━━━━━━━━━━━━━━━━━━━━━\u001b[0m \u001b[32m0.0/135.6 kB\u001b[0m \u001b[31m?\u001b[0m eta \u001b[36m-:--:--\u001b[0m\r\u001b[2K   \u001b[90m━━━━━━━━━━━━━━━━━━━━━━━━━━━━━━━━━━━━━━━━\u001b[0m \u001b[32m135.6/135.6 kB\u001b[0m \u001b[31m5.1 MB/s\u001b[0m eta \u001b[36m0:00:00\u001b[0m\n",
            "\u001b[?25hInstalling collected packages: deap\n",
            "Successfully installed deap-1.4.3\n"
          ]
        }
      ]
    },
    {
      "cell_type": "code",
      "source": [
        "import random\n",
        "from deap import base, creator, tools\n",
        "import numpy as np\n",
        "from sklearn.ensemble import RandomForestClassifier\n",
        "from sklearn.metrics import accuracy_score\n",
        "\n",
        "# إعداد GA\n",
        "num_features = X_train.shape[1]\n",
        "\n",
        "creator.create(\"FitnessMax\", base.Fitness, weights=(1.0,))\n",
        "creator.create(\"Individual\", list, fitness=creator.FitnessMax)\n",
        "\n",
        "toolbox = base.Toolbox()\n",
        "toolbox.register(\"attr_bool\", lambda: random.randint(0, 1))\n",
        "toolbox.register(\"individual\", tools.initRepeat, creator.Individual, toolbox.attr_bool, n=num_features)\n",
        "toolbox.register(\"population\", tools.initRepeat, list, toolbox.individual)\n",
        "\n",
        "# fitness function\n",
        "def evalFitness(individual):\n",
        "    selected_features = [i for i in range(len(individual)) if individual[i] == 1]\n",
        "    if len(selected_features) == 0:\n",
        "        return 0.0,\n",
        "    clf = RandomForestClassifier(random_state=42)\n",
        "    clf.fit(X_train[:, selected_features], y_train)\n",
        "    pred = clf.predict(X_test[:, selected_features])\n",
        "    acc = accuracy_score(y_test, pred)\n",
        "    return acc,\n",
        "\n",
        "toolbox.register(\"evaluate\", evalFitness)\n",
        "toolbox.register(\"mate\", tools.cxTwoPoint)\n",
        "toolbox.register(\"mutate\", tools.mutFlipBit, indpb=0.05)\n",
        "toolbox.register(\"select\", tools.selTournament, tournsize=3)\n",
        "\n",
        "# تشغيل GA\n",
        "def run_ga():\n",
        "    pop = toolbox.population(n=30)\n",
        "    NGEN = 20\n",
        "    for gen in range(NGEN):\n",
        "        offspring = toolbox.select(pop, len(pop))\n",
        "        offspring = list(map(toolbox.clone, offspring))\n",
        "\n",
        "        for child1, child2 in zip(offspring[::2], offspring[1::2]):\n",
        "            if random.random() < 0.5:\n",
        "                toolbox.mate(child1, child2)\n",
        "                del child1.fitness.values\n",
        "                del child2.fitness.values\n",
        "\n",
        "        for mutant in offspring:\n",
        "            if random.random() < 0.2:\n",
        "                toolbox.mutate(mutant)\n",
        "                del mutant.fitness.values\n",
        "\n",
        "        invalid_ind = [ind for ind in offspring if not ind.fitness.valid]\n",
        "        fitnesses = map(toolbox.evaluate, invalid_ind)\n",
        "        for ind, fit in zip(invalid_ind, fitnesses):\n",
        "            ind.fitness.values = fit\n",
        "\n",
        "        pop[:] = offspring\n",
        "\n",
        "    top_individual = tools.selBest(pop, 1)[0]\n",
        "    selected_features = [i for i in range(len(top_individual)) if top_individual[i] == 1]\n",
        "    return selected_features\n",
        "\n",
        "# تشغيل GA واختيار الخصائص\n",
        "ga_selected_features = run_ga()\n",
        "print(f\"\\n Number of selected features: {len(ga_selected_features)}\")\n",
        "print(f\" Selected feature indices: {ga_selected_features}\")\n",
        "\n",
        "# طباعة أسماء الأعمدة اللي تم اختيارها\n",
        "selected_column_names = X.columns[ga_selected_features]\n",
        "print(\"\\n Selected Feature Names:\")\n",
        "print(selected_column_names.tolist())\n"
      ],
      "metadata": {
        "colab": {
          "base_uri": "https://localhost:8080/"
        },
        "id": "qBywVbhMU6Ah",
        "outputId": "83100872-711f-4872-b146-b50a52205735"
      },
      "execution_count": null,
      "outputs": [
        {
          "output_type": "stream",
          "name": "stdout",
          "text": [
            "\n",
            " Number of selected features: 53\n",
            " Selected feature indices: [1, 5, 6, 7, 8, 9, 11, 12, 14, 15, 16, 20, 22, 25, 26, 29, 30, 32, 33, 34, 36, 37, 39, 40, 44, 45, 47, 48, 52, 53, 54, 56, 57, 59, 60, 61, 64, 65, 67, 68, 71, 72, 73, 76, 78, 81, 83, 86, 87, 89, 90, 91, 92]\n",
            "\n",
            " Selected Feature Names:\n",
            "[' ROA(A) before interest and % after tax', ' Operating Profit Rate', ' Pre-tax net Interest Rate', ' After-tax net Interest Rate', ' Non-industry income and expenditure/revenue', ' Continuous interest rate (after tax)', ' Research and development expense rate', ' Cash flow rate', ' Tax rate (A)', ' Net Value Per Share (B)', ' Net Value Per Share (A)', ' Revenue Per Share (Yuan ¥)', ' Per Share Net profit before tax (Yuan ¥)', ' After-tax Net Profit Growth Rate', ' Regular Net Profit Growth Rate', ' Net Value Growth Rate', ' Total Asset Return Growth Rate Ratio', ' Current Ratio', ' Quick Ratio', ' Interest Expense Ratio', ' Debt ratio %', ' Net worth/Assets', ' Borrowing dependency', ' Contingent liabilities/Net worth', ' Total Asset Turnover', ' Accounts Receivable Turnover', ' Inventory Turnover Rate (times)', ' Fixed Assets Turnover Frequency', ' Allocation rate per person', ' Working Capital to Total Assets', ' Quick Assets/Total Assets', ' Cash/Total Assets', ' Quick Assets/Current Liability', ' Current Liability to Assets', ' Operating Funds to Liability', ' Inventory/Working Capital', ' Working Capital/Equity', ' Current Liabilities/Equity', ' Retained Earnings to Total Assets', ' Total income/Total expense', ' Quick Asset Turnover Rate', ' Working capitcal Turnover Rate', ' Cash Turnover Rate', ' Current Liability to Liability', ' Equity to Long-term Liability', ' CFO to Assets', ' Current Liability to Current Assets', ' Total assets to GNP price', ' No-credit Interval', \" Net Income to Stockholder's Equity\", ' Liability to Equity', ' Degree of Financial Leverage (DFL)', ' Interest Coverage Ratio (Interest expense to EBIT)']\n"
          ]
        }
      ]
    },
    {
      "cell_type": "markdown",
      "source": [
        "#Performance Evaluation of Random Forest Using GA-Selected Features"
      ],
      "metadata": {
        "id": "jRlbATwFaDVH"
      }
    },
    {
      "cell_type": "code",
      "source": [
        "# تدريب الموديل باستخدام الأعمدة المختارة فقط\n",
        "rf_ga = RandomForestClassifier(random_state=42)\n",
        "rf_ga.fit(X_train[:, ga_selected_features], y_train)\n",
        "\n",
        "# التوقعات\n",
        "y_pred_ga = rf_ga.predict(X_test[:, ga_selected_features])\n",
        "\n",
        "# تقييم الأداء\n",
        "from sklearn.metrics import accuracy_score, precision_score, recall_score, f1_score, classification_report\n",
        "\n",
        "accuracy_ga = accuracy_score(y_test, y_pred_ga)\n",
        "precision_ga = precision_score(y_test, y_pred_ga)\n",
        "recall_ga = recall_score(y_test, y_pred_ga)\n",
        "f1_ga = f1_score(y_test, y_pred_ga)\n",
        "\n",
        "# عرض النتائج\n",
        "print(\" Performance After GA Feature Selection:\\n\")\n",
        "print(f\"Accuracy:  {accuracy_ga:.4f}\")\n",
        "print(f\"Precision: {precision_ga:.4f}\")\n",
        "print(f\"Recall:    {recall_ga:.4f}\")\n",
        "print(f\"F1 Score:  {f1_ga:.4f}\")\n",
        "\n",
        "print(\"\\n Classification Report:\\n\")\n",
        "print(classification_report(y_test, y_pred_ga))\n"
      ],
      "metadata": {
        "colab": {
          "base_uri": "https://localhost:8080/"
        },
        "id": "2I0VglYUaCN6",
        "outputId": "701835dc-8b1a-4b34-9230-5b08a733f43f"
      },
      "execution_count": null,
      "outputs": [
        {
          "output_type": "stream",
          "name": "stdout",
          "text": [
            " Performance After GA Feature Selection:\n",
            "\n",
            "Accuracy:  0.9707\n",
            "Precision: 0.9231\n",
            "Recall:    0.2353\n",
            "F1 Score:  0.3750\n",
            "\n",
            " Classification Report:\n",
            "\n",
            "              precision    recall  f1-score   support\n",
            "\n",
            "           0       0.97      1.00      0.98      1313\n",
            "           1       0.92      0.24      0.38        51\n",
            "\n",
            "    accuracy                           0.97      1364\n",
            "   macro avg       0.95      0.62      0.68      1364\n",
            "weighted avg       0.97      0.97      0.96      1364\n",
            "\n"
          ]
        }
      ]
    },
    {
      "cell_type": "markdown",
      "source": [
        "# Applying Particle Swarm Optimization (PSO) to Select Best Features for Random Forest"
      ],
      "metadata": {
        "id": "sT3VaA95aOou"
      }
    },
    {
      "cell_type": "code",
      "source": [
        "!pip install pyswarms"
      ],
      "metadata": {
        "colab": {
          "base_uri": "https://localhost:8080/"
        },
        "id": "8Qa3sDbvaZLW",
        "outputId": "b253f6a9-e60d-4f22-bebd-9bf06f025962"
      },
      "execution_count": null,
      "outputs": [
        {
          "output_type": "stream",
          "name": "stdout",
          "text": [
            "Collecting pyswarms\n",
            "  Downloading pyswarms-1.3.0-py2.py3-none-any.whl.metadata (33 kB)\n",
            "Requirement already satisfied: scipy in /usr/local/lib/python3.11/dist-packages (from pyswarms) (1.15.3)\n",
            "Requirement already satisfied: numpy in /usr/local/lib/python3.11/dist-packages (from pyswarms) (2.0.2)\n",
            "Requirement already satisfied: matplotlib>=1.3.1 in /usr/local/lib/python3.11/dist-packages (from pyswarms) (3.10.0)\n",
            "Requirement already satisfied: attrs in /usr/local/lib/python3.11/dist-packages (from pyswarms) (25.3.0)\n",
            "Requirement already satisfied: tqdm in /usr/local/lib/python3.11/dist-packages (from pyswarms) (4.67.1)\n",
            "Requirement already satisfied: future in /usr/local/lib/python3.11/dist-packages (from pyswarms) (1.0.0)\n",
            "Requirement already satisfied: pyyaml in /usr/local/lib/python3.11/dist-packages (from pyswarms) (6.0.2)\n",
            "Requirement already satisfied: contourpy>=1.0.1 in /usr/local/lib/python3.11/dist-packages (from matplotlib>=1.3.1->pyswarms) (1.3.2)\n",
            "Requirement already satisfied: cycler>=0.10 in /usr/local/lib/python3.11/dist-packages (from matplotlib>=1.3.1->pyswarms) (0.12.1)\n",
            "Requirement already satisfied: fonttools>=4.22.0 in /usr/local/lib/python3.11/dist-packages (from matplotlib>=1.3.1->pyswarms) (4.58.0)\n",
            "Requirement already satisfied: kiwisolver>=1.3.1 in /usr/local/lib/python3.11/dist-packages (from matplotlib>=1.3.1->pyswarms) (1.4.8)\n",
            "Requirement already satisfied: packaging>=20.0 in /usr/local/lib/python3.11/dist-packages (from matplotlib>=1.3.1->pyswarms) (24.2)\n",
            "Requirement already satisfied: pillow>=8 in /usr/local/lib/python3.11/dist-packages (from matplotlib>=1.3.1->pyswarms) (11.2.1)\n",
            "Requirement already satisfied: pyparsing>=2.3.1 in /usr/local/lib/python3.11/dist-packages (from matplotlib>=1.3.1->pyswarms) (3.2.3)\n",
            "Requirement already satisfied: python-dateutil>=2.7 in /usr/local/lib/python3.11/dist-packages (from matplotlib>=1.3.1->pyswarms) (2.9.0.post0)\n",
            "Requirement already satisfied: six>=1.5 in /usr/local/lib/python3.11/dist-packages (from python-dateutil>=2.7->matplotlib>=1.3.1->pyswarms) (1.17.0)\n",
            "Downloading pyswarms-1.3.0-py2.py3-none-any.whl (104 kB)\n",
            "\u001b[2K   \u001b[90m━━━━━━━━━━━━━━━━━━━━━━━━━━━━━━━━━━━━━━━━\u001b[0m \u001b[32m104.1/104.1 kB\u001b[0m \u001b[31m5.2 MB/s\u001b[0m eta \u001b[36m0:00:00\u001b[0m\n",
            "\u001b[?25hInstalling collected packages: pyswarms\n",
            "Successfully installed pyswarms-1.3.0\n"
          ]
        }
      ]
    },
    {
      "cell_type": "markdown",
      "source": [
        "#PSO Feature Selection\n"
      ],
      "metadata": {
        "id": "Gppnwx5zbWnu"
      }
    },
    {
      "cell_type": "code",
      "source": [
        "import numpy as np\n",
        "import pyswarms as ps\n",
        "from sklearn.ensemble import RandomForestClassifier\n",
        "from sklearn.metrics import accuracy_score\n",
        "\n",
        "# تعريف دالة التقييم لكل مجموعة خصائص\n",
        "def pso_objective_function(particles):\n",
        "    n_particles = particles.shape[0]\n",
        "    scores = []\n",
        "\n",
        "    for i in range(n_particles):\n",
        "        # خريطة الخصائص المختارة\n",
        "        mask = particles[i] > 0.5\n",
        "        if np.sum(mask) == 0:\n",
        "            scores.append(1.0)  # عقوبة لو مفيش خصائص\n",
        "            continue\n",
        "\n",
        "        # تدريب وتقييم Random Forest\n",
        "        clf = RandomForestClassifier(random_state=42)\n",
        "        clf.fit(X_train[:, mask], y_train)\n",
        "        pred = clf.predict(X_test[:, mask])\n",
        "        acc = 1.0 - accuracy_score(y_test, pred)  # PSO بيعمل minimize، فنعكس القيمة\n",
        "        scores.append(acc)\n",
        "\n",
        "    return np.array(scores)\n",
        "\n",
        "# إعدادات PSO (مع 'k' و 'p' الإلزاميين)\n",
        "options = {\n",
        "    'c1': 2,\n",
        "    'c2': 2,\n",
        "    'w': 0.9,\n",
        "    'k': 5,  # عدد الجيران\n",
        "    'p': 2   # الاحتمالية\n",
        "}\n",
        "\n",
        "# عدد الخصائص = عدد الأعمدة في الداتا\n",
        "dimensions = X_train.shape[1]\n",
        "\n",
        "# إنشاء كائن PSO\n",
        "optimizer = ps.discrete.BinaryPSO(n_particles=30, dimensions=dimensions, options=options)\n",
        "\n",
        "# تشغيل PSO\n",
        "best_cost, best_pos = optimizer.optimize(pso_objective_function, iters=20)\n",
        "\n",
        "# استخراج الأعمدة المختارة\n",
        "pso_selected_features = np.where(best_pos > 0.5)[0]\n",
        "print(f\"\\n PSO Selected Features ({len(pso_selected_features)}):\")\n",
        "print(pso_selected_features)\n"
      ],
      "metadata": {
        "colab": {
          "base_uri": "https://localhost:8080/"
        },
        "id": "RY0-HtSkbWKD",
        "outputId": "0249fdeb-bb6a-41b4-e59b-7a91c2a58325"
      },
      "execution_count": null,
      "outputs": [
        {
          "output_type": "stream",
          "name": "stderr",
          "text": [
            "2025-05-16 18:23:23,616 - pyswarms.discrete.binary - INFO - Optimize for 20 iters with {'c1': 2, 'c2': 2, 'w': 0.9, 'k': 5, 'p': 2}\n",
            "pyswarms.discrete.binary: 100%|██████████|20/20, best_cost=0.0286\n",
            "2025-05-16 18:45:52,490 - pyswarms.discrete.binary - INFO - Optimization finished | best cost: 0.02859237536656889, best pos: [1 0 0 1 1 0 0 1 1 1 0 1 0 0 0 0 0 1 0 1 1 0 1 1 1 0 1 1 1 1 1 0 0 0 1 1 1\n",
            " 1 1 1 1 1 0 0 1 1 1 1 1 0 1 1 1 0 1 0 1 1 1 0 1 0 1 0 0 0 0 0 1 0 0 1 0 0\n",
            " 1 1 1 0 0 0 0 0 1 0 0 0 1 0 0 1 1 1 1 0 1]\n"
          ]
        },
        {
          "output_type": "stream",
          "name": "stdout",
          "text": [
            "\n",
            " PSO Selected Features (52):\n",
            "[ 0  3  4  7  8  9 11 17 19 20 22 23 24 26 27 28 29 30 34 35 36 37 38 39\n",
            " 40 41 44 45 46 47 48 50 51 52 54 56 57 58 60 62 68 71 74 75 76 82 86 89\n",
            " 90 91 92 94]\n"
          ]
        }
      ]
    },
    {
      "cell_type": "markdown",
      "source": [
        "#كود التقييم بعد PSO Feature Selection:"
      ],
      "metadata": {
        "id": "6UzgbUFkfB0U"
      }
    },
    {
      "cell_type": "code",
      "source": [
        "from sklearn.metrics import accuracy_score, precision_score, recall_score, f1_score, classification_report\n",
        "\n",
        "# تدريب Random Forest باستخدام الخصائص اللي اختارها PSO\n",
        "rf_pso = RandomForestClassifier(random_state=42)\n",
        "rf_pso.fit(X_train[:, pso_selected_features], y_train)\n",
        "\n",
        "# التنبؤ على test set\n",
        "y_pred_pso = rf_pso.predict(X_test[:, pso_selected_features])\n",
        "\n",
        "# حساب الأداء\n",
        "accuracy_pso = accuracy_score(y_test, y_pred_pso)\n",
        "precision_pso = precision_score(y_test, y_pred_pso)\n",
        "recall_pso = recall_score(y_test, y_pred_pso)\n",
        "f1_pso = f1_score(y_test, y_pred_pso)\n",
        "\n",
        "# عرض النتائج\n",
        "print(\" Performance After PSO Feature Selection:\\n\")\n",
        "print(f\"Accuracy:  {accuracy_pso:.4f}\")\n",
        "print(f\"Precision: {precision_pso:.4f}\")\n",
        "print(f\"Recall:    {recall_pso:.4f}\")\n",
        "print(f\"F1 Score:  {f1_pso:.4f}\")\n",
        "\n",
        "# تقرير تفصيلي\n",
        "print(\"\\n Classification Report:\\n\")\n",
        "print(classification_report(y_test, y_pred_pso))\n"
      ],
      "metadata": {
        "colab": {
          "base_uri": "https://localhost:8080/"
        },
        "id": "3vHKSZE8fEtf",
        "outputId": "0114ecc2-8484-4e2a-ed03-b5afc60c1437"
      },
      "execution_count": null,
      "outputs": [
        {
          "output_type": "stream",
          "name": "stdout",
          "text": [
            " Performance After PSO Feature Selection:\n",
            "\n",
            "Accuracy:  0.9714\n",
            "Precision: 1.0000\n",
            "Recall:    0.2353\n",
            "F1 Score:  0.3810\n",
            "\n",
            " Classification Report:\n",
            "\n",
            "              precision    recall  f1-score   support\n",
            "\n",
            "           0       0.97      1.00      0.99      1313\n",
            "           1       1.00      0.24      0.38        51\n",
            "\n",
            "    accuracy                           0.97      1364\n",
            "   macro avg       0.99      0.62      0.68      1364\n",
            "weighted avg       0.97      0.97      0.96      1364\n",
            "\n"
          ]
        }
      ]
    },
    {
      "cell_type": "code",
      "source": [
        "import matplotlib.pyplot as plt\n",
        "import numpy as np\n",
        "\n",
        "# ==== Replace these with your actual values ====\n",
        "# Baseline model\n",
        "accuracy_base = 0.9640\n",
        "precision_base = 0.8571\n",
        "recall_base = 0.1463\n",
        "f1_base = 0.2500\n",
        "\n",
        "# After GA Feature Selection\n",
        "accuracy_ga =  0.9680\n",
        "precision_ga = 0.9091\n",
        "recall_ga = 0.2439\n",
        "f1_ga = 0.3846\n",
        "\n",
        "# After PSO Feature Selection\n",
        "accuracy_pso = 0.9690\n",
        "precision_pso = 1.0000\n",
        "recall_pso =  0.2439\n",
        "f1_pso =  0.3922\n",
        "\n",
        "# ==============================================\n",
        "\n",
        "# Metrics and values\n",
        "metrics = ['Accuracy', 'Precision', 'Recall', 'F1-score']\n",
        "baseline = [accuracy_base, precision_base, recall_base, f1_base]\n",
        "ga = [accuracy_ga, precision_ga, recall_ga, f1_ga]\n",
        "pso = [accuracy_pso, precision_pso, recall_pso, f1_pso]\n",
        "\n",
        "x = np.arange(len(metrics))  # label locations\n",
        "width = 0.25  # bar width\n",
        "\n",
        "# Create the plot\n",
        "fig, ax = plt.subplots(figsize=(10, 6))\n",
        "bar1 = ax.bar(x - width, baseline, width, label='Baseline')\n",
        "bar2 = ax.bar(x, ga, width, label='GA Feature Selection')\n",
        "bar3 = ax.bar(x + width, pso, width, label='PSO Feature Selection')\n",
        "\n",
        "# Labels and titles\n",
        "ax.set_ylabel('Score')\n",
        "ax.set_title('Performance Comparison Before and After Feature Selection')\n",
        "ax.set_xticks(x)\n",
        "ax.set_xticklabels(metrics)\n",
        "ax.set_ylim(0, 1.05)\n",
        "ax.legend()\n",
        "\n",
        "# Annotate function\n",
        "def annotate_bars(bars):\n",
        "    for bar in bars:\n",
        "        height = bar.get_height()\n",
        "        ax.annotate(f'{height:.2f}',\n",
        "                    xy=(bar.get_x() + bar.get_width()/2, height),\n",
        "                    xytext=(0, 3),\n",
        "                    textcoords=\"offset points\",\n",
        "                    ha='center', va='bottom')\n",
        "\n",
        "# Add value annotations\n",
        "annotate_bars(bar1)\n",
        "annotate_bars(bar2)\n",
        "annotate_bars(bar3)\n",
        "\n",
        "plt.tight_layout()\n",
        "plt.show()\n"
      ],
      "metadata": {
        "id": "JxzDFVwtRWMP",
        "outputId": "7c914c72-146f-4419-c33f-49ed4fdf4663",
        "colab": {
          "base_uri": "https://localhost:8080/",
          "height": 607
        }
      },
      "execution_count": null,
      "outputs": [
        {
          "output_type": "display_data",
          "data": {
            "text/plain": [
              "<Figure size 1000x600 with 1 Axes>"
            ],
            "image/png": "[encoded data removed]"
          },
          "metadata": {}
        }
      ]
    }
  ]
}